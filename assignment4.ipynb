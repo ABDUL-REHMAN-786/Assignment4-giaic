{
  "nbformat": 4,
  "nbformat_minor": 0,
  "metadata": {
    "colab": {
      "provenance": [],
      "authorship_tag": "ABX9TyM3YsPsNK5v2nel6jNVzx1F",
      "include_colab_link": true
    },
    "kernelspec": {
      "name": "python3",
      "display_name": "Python 3"
    },
    "language_info": {
      "name": "python"
    }
  },
  "cells": [
    {
      "cell_type": "markdown",
      "metadata": {
        "id": "view-in-github",
        "colab_type": "text"
      },
      "source": [
        "<a href=\"https://colab.research.google.com/github/ABDUL-REHMAN-786/Assignment4-giaic/blob/main/assignment4.ipynb\" target=\"_parent\"><img src=\"https://colab.research.google.com/assets/colab-badge.svg\" alt=\"Open In Colab\"/></a>"
      ]
    },
    {
      "cell_type": "markdown",
      "source": [
        "# Write a Python program that takes two integer inputs from the user and calculates their sum. The program should perform the following tasks:\n",
        "\n",
        "\n",
        "1.   Prompt the user to enter the first number. Read the input and convert it to an integer.\n",
        "\n",
        "2.   Prompt the user to enter the second number. Read the input and convert it to an integer.\n",
        "\n",
        "    Calculate the sum of the two numbers.\n",
        "\n",
        "    Print the total sum with an appropriate message.\n"
      ],
      "metadata": {
        "id": "eMh-eDIMnTfK"
      }
    },
    {
      "cell_type": "code",
      "execution_count": 1,
      "metadata": {
        "colab": {
          "base_uri": "https://localhost:8080/"
        },
        "id": "aIVWSoEPmt-T",
        "outputId": "c4f55f58-0fca-4526-82e6-881d9aa85092"
      },
      "outputs": [
        {
          "output_type": "stream",
          "name": "stdout",
          "text": [
            "Enter the first number: 9\n",
            "Enter the second number: 8\n",
            "The sum of 9 and 8 is: 17\n"
          ]
        }
      ],
      "source": [
        "def main():\n",
        "    # Prompt the user for the first number\n",
        "    num1 = int(input(\"Enter the first number: \"))\n",
        "\n",
        "    # Prompt the user for the second number\n",
        "    num2 = int(input(\"Enter the second number: \"))\n",
        "\n",
        "    # Calculate the sum\n",
        "    total = num1 + num2\n",
        "\n",
        "    # Print the result\n",
        "    print(f\"The sum of {num1} and {num2} is: {total}\")\n",
        "\n",
        "# Run the main function\n",
        "if __name__ == \"__main__\":\n",
        "    main()\n"
      ]
    },
    {
      "cell_type": "markdown",
      "source": [
        "\n",
        "# Write a program which asks the user what their favorite animal is, and then always responds with \"My favorite animal is also ___!\" (the blank should be filled in with the user-inputted animal, of course).\n",
        "\n",
        "    Here's a sample run of the program (user input is in bold italics - note the space between the prompt and the user input!):\n",
        "\n",
        "    What's your favorite animal? cow\n",
        "\n",
        "    My favorite animal is also cow!\n"
      ],
      "metadata": {
        "id": "91d5tMFHnk5o"
      }
    },
    {
      "cell_type": "code",
      "source": [
        "def main():\n",
        "    # Prompt the user for their favorite animal\n",
        "    animal = input(\"What's your favorite animal? \")\n",
        "\n",
        "    # Print the response with the user's input\n",
        "    print(f\"My favorite animal is also {animal}!\")\n",
        "\n",
        "# Run the main function\n",
        "if __name__ == \"__main__\":\n",
        "    main()\n"
      ],
      "metadata": {
        "colab": {
          "base_uri": "https://localhost:8080/"
        },
        "id": "vjeS-OgYnz7k",
        "outputId": "eee0be58-e2ed-4f30-faee-76bb44b43925"
      },
      "execution_count": 2,
      "outputs": [
        {
          "output_type": "stream",
          "name": "stdout",
          "text": [
            "What's your favorite animal? cow\n",
            "My favorite animal is also cow!\n"
          ]
        }
      ]
    },
    {
      "cell_type": "markdown",
      "source": [
        "Problem Statement\n",
        "Write a program which prompts the user for a temperature in Fahrenheit (this can be a number with decimal places!) and outputs the temperature converted to Celsius.\n",
        "\n",
        "The Celsius scale is widely used to measure temperature, but places still use Fahrenheit. Fahrenheit is another unit for temperature, but the scale is different from Celsius -- for example, 0 degrees Celsius is 32 degrees Fahrenheit!\n",
        "\n",
        "The equation you should use for converting from Fahrenheit to Celsius is the following:\n",
        "\n",
        "degrees_celsius = (degrees_fahrenheit - 32) * 5.0/9.0\n",
        "\n",
        "(Note. The .0 after the 5 and 9 matters in the line above!!!)\n",
        "\n",
        "Here's a sample run of the program (user input is in bold italics):\n",
        "\n",
        "Enter temperature in Fahrenheit: 76\n",
        "\n",
        "Temperature: 76.0F = 24.444444444444443C\n"
      ],
      "metadata": {
        "id": "IXBz_YrzoEfK"
      }
    },
    {
      "cell_type": "code",
      "source": [
        "def main():\n",
        "    try:\n",
        "        # Prompt the user for a temperature in Fahrenheit\n",
        "        fahrenheit = float(input(\"Enter temperature in Fahrenheit: \"))\n",
        "\n",
        "        # Convert to Celsius\n",
        "        celsius = (fahrenheit - 32) * 5.0 / 9.0\n",
        "\n",
        "        # Print the result with rounding to 2 decimal places\n",
        "        print(f\"Temperature: {fahrenheit:.1f}F = {celsius:.2f}C\")\n",
        "\n",
        "    except ValueError:\n",
        "        print(\"Invalid input! Please enter a numeric value.\")\n",
        "\n",
        "# Run the main function\n",
        "if __name__ == \"__main__\":\n",
        "    main()\n"
      ],
      "metadata": {
        "colab": {
          "base_uri": "https://localhost:8080/"
        },
        "id": "oJOoBKLRoP1U",
        "outputId": "524b92c7-98cd-4e98-d947-173b15cf8b55"
      },
      "execution_count": 4,
      "outputs": [
        {
          "output_type": "stream",
          "name": "stdout",
          "text": [
            "Enter temperature in Fahrenheit: 67\n",
            "Temperature: 67.0F = 19.44C\n"
          ]
        }
      ]
    },
    {
      "cell_type": "markdown",
      "source": [
        "Write a program to solve this age-related riddle!\n",
        "\n",
        "Anton, Beth, Chen, Drew, and Ethan are all friends. Their ages are as follows:\n",
        "\n",
        "Anton is 21 years old.\n",
        "\n",
        "Beth is 6 years older than Anton.\n",
        "\n",
        "Chen is 20 years older than Beth.\n",
        "\n",
        "Drew is as old as Chen's age plus Anton's age.\n",
        "\n",
        "Ethan is the same age as Chen.\n",
        "\n",
        "Your code should store each person's age to a variable and print their names and ages at the end. The autograder is sensitive to capitalization and punctuation, be careful! Your solution should look like this (the below numbers are made up -- your solution should have the correct values!):"
      ],
      "metadata": {
        "id": "EtqvuNxBqcFu"
      }
    },
    {
      "cell_type": "code",
      "source": [
        "def main():\n",
        "    # Given age of Anton\n",
        "    Anton = 21\n",
        "\n",
        "    # Calculating the ages based on the given conditions\n",
        "    Beth = Anton + 6\n",
        "    Chen = Beth + 20\n",
        "    Drew = Chen + Anton\n",
        "    Ethan = Chen\n",
        "\n",
        "    # Printing the results with correct formatting\n",
        "    print(f\"Anton is {Anton} years old.\")\n",
        "    print(f\"Beth is {Beth} years old.\")\n",
        "    print(f\"Chen is {Chen} years old.\")\n",
        "    print(f\"Drew is {Drew} years old.\")\n",
        "    print(f\"Ethan is {Ethan} years old.\")\n",
        "\n",
        "# Run the main function\n",
        "if __name__ == \"__main__\":\n",
        "    main()\n"
      ],
      "metadata": {
        "colab": {
          "base_uri": "https://localhost:8080/"
        },
        "id": "7kglUCwAqe-Z",
        "outputId": "a274379b-9c4f-4e89-c823-c815a077b2a9"
      },
      "execution_count": 5,
      "outputs": [
        {
          "output_type": "stream",
          "name": "stdout",
          "text": [
            "Anton is 21 years old.\n",
            "Beth is 27 years old.\n",
            "Chen is 47 years old.\n",
            "Drew is 68 years old.\n",
            "Ethan is 47 years old.\n"
          ]
        }
      ]
    },
    {
      "cell_type": "markdown",
      "source": [
        "Prompt the user to enter the lengths of each side of a triangle and then calculate and print the perimeter of the triangle (the sum of all of the side lengths).\n",
        "\n",
        "Here's a sample run of the program (user input is in bold italics):\n",
        "\n",
        "What is the length of side 1? 3\n",
        "\n",
        "What is the length of side 2? 4\n",
        "\n",
        "What is the length of side 3? 5.5\n",
        "\n",
        "The perimeter of the triangle is 12.5"
      ],
      "metadata": {
        "id": "3tP3BjqlqvFG"
      }
    },
    {
      "cell_type": "code",
      "source": [
        "# Prompt the user for the lengths of the triangle's sides\n",
        "side1 = float(input(\"What is the length of side 1? \"))\n",
        "side2 = float(input(\"What is the length of side 2? \"))\n",
        "side3 = float(input(\"What is the length of side 3? \"))\n",
        "\n",
        "# Calculate the perimeter\n",
        "perimeter = side1 + side2 + side3\n",
        "\n",
        "# Display the result\n",
        "print(f\"The perimeter of the triangle is {perimeter}\")\n"
      ],
      "metadata": {
        "colab": {
          "base_uri": "https://localhost:8080/"
        },
        "id": "0SSWO1lwqxjL",
        "outputId": "036c81b3-ff27-4e0b-8f92-0a39a5d5c08c"
      },
      "execution_count": 6,
      "outputs": [
        {
          "output_type": "stream",
          "name": "stdout",
          "text": [
            "What is the length of side 1? 34\n",
            "What is the length of side 2? 32\n",
            "What is the length of side 3? 34\n",
            "The perimeter of the triangle is 100.0\n"
          ]
        }
      ]
    },
    {
      "cell_type": "markdown",
      "source": [
        "Ask the user for a number and print its square (the product of the number times itself).\n",
        "\n",
        "Here's a sample run of the program (user input is in bold italics):\n",
        "\n",
        "Type a number to see its square: 4\n",
        "\n",
        "4.0 squared is 16.0"
      ],
      "metadata": {
        "id": "Cm3O2Cq2rFoU"
      }
    },
    {
      "cell_type": "code",
      "source": [
        "# Prompt the user for a number\n",
        "num = float(input(\"Type a number to see its square: \"))\n",
        "\n",
        "# Calculate the square\n",
        "square = num * num\n",
        "\n",
        "# Display the result\n",
        "print(f\"{num} squared is {square}\")\n"
      ],
      "metadata": {
        "colab": {
          "base_uri": "https://localhost:8080/"
        },
        "id": "UxyoZyhVrOzL",
        "outputId": "f8ab594f-410d-4be3-abea-d7d298c8cd65"
      },
      "execution_count": 7,
      "outputs": [
        {
          "output_type": "stream",
          "name": "stdout",
          "text": [
            "Type a number to see its square: 22\n",
            "22.0 squared is 484.0\n"
          ]
        }
      ]
    }
  ]
}